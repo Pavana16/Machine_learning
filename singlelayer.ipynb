{
 "cells": [
  {
   "cell_type": "code",
   "execution_count": 63,
   "metadata": {},
   "outputs": [
    {
     "data": {
      "text/html": [
       "<div>\n",
       "<style scoped>\n",
       "    .dataframe tbody tr th:only-of-type {\n",
       "        vertical-align: middle;\n",
       "    }\n",
       "\n",
       "    .dataframe tbody tr th {\n",
       "        vertical-align: top;\n",
       "    }\n",
       "\n",
       "    .dataframe thead th {\n",
       "        text-align: right;\n",
       "    }\n",
       "</style>\n",
       "<table border=\"1\" class=\"dataframe\">\n",
       "  <thead>\n",
       "    <tr style=\"text-align: right;\">\n",
       "      <th></th>\n",
       "      <th>id</th>\n",
       "      <th>diagnosis</th>\n",
       "      <th>radius_mean</th>\n",
       "      <th>texture_mean</th>\n",
       "      <th>area_mean</th>\n",
       "      <th>smoothness_mean</th>\n",
       "      <th>compactness_mean</th>\n",
       "      <th>concavity_mean</th>\n",
       "      <th>radius_worst</th>\n",
       "      <th>texture_worst</th>\n",
       "      <th>area_worst</th>\n",
       "      <th>smoothness_worst</th>\n",
       "      <th>compactness_worst</th>\n",
       "      <th>concavity_worst</th>\n",
       "    </tr>\n",
       "  </thead>\n",
       "  <tbody>\n",
       "    <tr>\n",
       "      <th>0</th>\n",
       "      <td>842302</td>\n",
       "      <td>0</td>\n",
       "      <td>17.99</td>\n",
       "      <td>10.38</td>\n",
       "      <td>1001.0</td>\n",
       "      <td>0.11840</td>\n",
       "      <td>0.27760</td>\n",
       "      <td>0.3001</td>\n",
       "      <td>25.38</td>\n",
       "      <td>17.33</td>\n",
       "      <td>2019.0</td>\n",
       "      <td>0.1622</td>\n",
       "      <td>0.6656</td>\n",
       "      <td>0.7119</td>\n",
       "    </tr>\n",
       "    <tr>\n",
       "      <th>1</th>\n",
       "      <td>842517</td>\n",
       "      <td>0</td>\n",
       "      <td>20.57</td>\n",
       "      <td>17.77</td>\n",
       "      <td>1326.0</td>\n",
       "      <td>0.08474</td>\n",
       "      <td>0.07864</td>\n",
       "      <td>0.0869</td>\n",
       "      <td>24.99</td>\n",
       "      <td>23.41</td>\n",
       "      <td>1956.0</td>\n",
       "      <td>0.1238</td>\n",
       "      <td>0.1866</td>\n",
       "      <td>0.2416</td>\n",
       "    </tr>\n",
       "    <tr>\n",
       "      <th>2</th>\n",
       "      <td>84300903</td>\n",
       "      <td>0</td>\n",
       "      <td>19.69</td>\n",
       "      <td>21.25</td>\n",
       "      <td>1203.0</td>\n",
       "      <td>0.10960</td>\n",
       "      <td>0.15990</td>\n",
       "      <td>0.1974</td>\n",
       "      <td>23.57</td>\n",
       "      <td>25.53</td>\n",
       "      <td>1709.0</td>\n",
       "      <td>0.1444</td>\n",
       "      <td>0.4245</td>\n",
       "      <td>0.4504</td>\n",
       "    </tr>\n",
       "    <tr>\n",
       "      <th>3</th>\n",
       "      <td>84348301</td>\n",
       "      <td>0</td>\n",
       "      <td>11.42</td>\n",
       "      <td>20.38</td>\n",
       "      <td>386.1</td>\n",
       "      <td>0.14250</td>\n",
       "      <td>0.28390</td>\n",
       "      <td>0.2414</td>\n",
       "      <td>14.91</td>\n",
       "      <td>26.50</td>\n",
       "      <td>567.7</td>\n",
       "      <td>0.2098</td>\n",
       "      <td>0.8663</td>\n",
       "      <td>0.6869</td>\n",
       "    </tr>\n",
       "    <tr>\n",
       "      <th>4</th>\n",
       "      <td>84358402</td>\n",
       "      <td>0</td>\n",
       "      <td>20.29</td>\n",
       "      <td>14.34</td>\n",
       "      <td>1297.0</td>\n",
       "      <td>0.10030</td>\n",
       "      <td>0.13280</td>\n",
       "      <td>0.1980</td>\n",
       "      <td>22.54</td>\n",
       "      <td>16.67</td>\n",
       "      <td>1575.0</td>\n",
       "      <td>0.1374</td>\n",
       "      <td>0.2050</td>\n",
       "      <td>0.4000</td>\n",
       "    </tr>\n",
       "  </tbody>\n",
       "</table>\n",
       "</div>"
      ],
      "text/plain": [
       "         id  diagnosis  radius_mean  texture_mean  area_mean  smoothness_mean  \\\n",
       "0    842302          0        17.99         10.38     1001.0          0.11840   \n",
       "1    842517          0        20.57         17.77     1326.0          0.08474   \n",
       "2  84300903          0        19.69         21.25     1203.0          0.10960   \n",
       "3  84348301          0        11.42         20.38      386.1          0.14250   \n",
       "4  84358402          0        20.29         14.34     1297.0          0.10030   \n",
       "\n",
       "   compactness_mean  concavity_mean  radius_worst  texture_worst  area_worst  \\\n",
       "0           0.27760          0.3001         25.38          17.33      2019.0   \n",
       "1           0.07864          0.0869         24.99          23.41      1956.0   \n",
       "2           0.15990          0.1974         23.57          25.53      1709.0   \n",
       "3           0.28390          0.2414         14.91          26.50       567.7   \n",
       "4           0.13280          0.1980         22.54          16.67      1575.0   \n",
       "\n",
       "   smoothness_worst  compactness_worst  concavity_worst  \n",
       "0            0.1622             0.6656           0.7119  \n",
       "1            0.1238             0.1866           0.2416  \n",
       "2            0.1444             0.4245           0.4504  \n",
       "3            0.2098             0.8663           0.6869  \n",
       "4            0.1374             0.2050           0.4000  "
      ]
     },
     "execution_count": 63,
     "metadata": {},
     "output_type": "execute_result"
    }
   ],
   "source": [
    "import numpy as np\n",
    "import pandas as pd\n",
    "import matplotlib.pyplot as plt\n",
    "np.random.seed(123)\n",
    "\n",
    "#b i - reading from the dataset\n",
    "data = pd.read_csv('data.csv')\n",
    "data.head()\n",
    "\n",
    "#to create a binary label(0/1)\n",
    "data['diagnosis'] = data['diagnosis'].map({'M':0,'B':1})\n",
    "data.head()"
   ]
  },
  {
   "cell_type": "code",
   "execution_count": 64,
   "metadata": {},
   "outputs": [
    {
     "name": "stdout",
     "output_type": "stream",
     "text": [
      "[[1.799e+01 1.038e+01 1.001e+03 ... 1.622e-01 6.656e-01 7.119e-01]\n",
      " [2.057e+01 1.777e+01 1.326e+03 ... 1.238e-01 1.866e-01 2.416e-01]\n",
      " [1.969e+01 2.125e+01 1.203e+03 ... 1.444e-01 4.245e-01 4.504e-01]\n",
      " ...\n",
      " [1.660e+01 2.808e+01 8.581e+02 ... 1.139e-01 3.094e-01 3.403e-01]\n",
      " [2.060e+01 2.933e+01 1.265e+03 ... 1.650e-01 8.681e-01 9.387e-01]\n",
      " [7.760e+00 2.454e+01 1.810e+02 ... 8.996e-02 6.444e-02 0.000e+00]]\n"
     ]
    }
   ],
   "source": [
    "#to identify the dependent and independent parameters\n",
    "X = data.iloc[:,2:].values\n",
    "Y = data.iloc[:,1].values\n",
    "\n",
    "#for splitting into train and test data\n",
    "y_act = Y[:, np.newaxis]\n",
    "from sklearn.model_selection import train_test_split\n",
    "X_train, X_test, Y_train, Y_test = train_test_split(X, y_act)\n",
    "print(X)"
   ]
  },
  {
   "cell_type": "code",
   "execution_count": 65,
   "metadata": {},
   "outputs": [
    {
     "name": "stdout",
     "output_type": "stream",
     "text": [
      "[0 0 0 0 0 0 0 0 0 0 0 0 0 0 0 0 0 0 0 1 1 1 0 0 0 0 0 0 0 0 0 0 0 0 0 0 0\n",
      " 1 0 0 0 0 0 0 0 0 1 0 1 1 1 1 1 0 0 1 0 0 1 1 1 1 0 1 0 0 1 1 1 1 0 1 0 0\n",
      " 1 0 1 0 0 1 1 1 0 0 1 0 0 0 1 1 1 0 1 1 0 0 1 1 1 0 0 1 1 1 1 0 1 1 0 1 1\n",
      " 1 1 1 1 1 1 0 0 0 1 0 0 1 1 1 0 0 1 0 1 0 0 1 0 0 1 1 0 1 1 0 1 1 1 1 0 1\n",
      " 1 1 1 1 1 1 1 1 0 1 1 1 1 0 0 1 0 1 1 0 0 1 1 0 0 1 1 1 1 0 1 1 0 0 0 1 0\n",
      " 1 0 1 1 1 0 1 1 0 0 1 0 0 0 0 1 0 0 0 1 0 1 0 1 1 0 1 0 0 0 0 1 1 0 0 1 1\n",
      " 1 0 1 1 1 1 1 0 0 1 1 0 1 1 0 0 1 0 1 1 1 1 0 1 1 1 1 1 0 1 0 0 0 0 0 0 0\n",
      " 0 0 0 0 0 0 0 1 1 1 1 1 1 0 1 0 1 1 0 1 1 0 1 0 0 1 1 1 1 1 1 1 1 1 1 1 1\n",
      " 1 0 1 1 0 1 0 1 1 1 1 1 1 1 1 1 1 1 1 1 1 0 1 1 1 0 1 0 1 1 1 1 0 0 0 1 1\n",
      " 1 1 0 1 0 1 0 1 1 1 0 1 1 1 1 1 1 1 0 0 0 1 1 1 1 1 1 1 1 1 1 1 0 0 1 0 0\n",
      " 0 1 0 0 1 1 1 1 1 0 1 1 1 1 1 0 1 1 1 0 1 1 0 0 1 1 1 1 1 1 0 1 1 1 1 1 1\n",
      " 1 0 1 1 1 1 1 0 1 1 0 1 1 1 1 1 1 1 1 1 1 1 1 0 1 0 0 1 0 1 1 1 1 1 0 1 1\n",
      " 0 1 0 1 1 0 1 0 1 1 1 1 1 1 1 1 0 0 1 1 1 1 1 1 0 1 1 1 1 1 1 1 1 1 1 0 1\n",
      " 1 1 1 1 1 1 0 1 0 1 1 0 1 1 1 1 1 0 0 1 0 1 0 1 1 1 1 1 0 1 1 0 1 0 1 0 0\n",
      " 1 1 1 0 1 1 1 1 1 1 1 1 1 1 1 0 1 0 0 1 1 1 1 1 1 1 1 1 1 1 1 1 1 1 1 1 1\n",
      " 1 1 1 1 1 1 1 0 0 0 0 0 0 1]\n"
     ]
    }
   ],
   "source": [
    "print(Y)"
   ]
  },
  {
   "cell_type": "code",
   "execution_count": 66,
   "metadata": {},
   "outputs": [],
   "source": [
    "#b iii\n",
    "#Initialising learning rate, epochs\n",
    "class SinglePerceptron(object):\n",
    "    def __init__(self,learning_rate,epochs):\n",
    "        self.learning_rate = learning_rate\n",
    "        self.epochs = epochs\n",
    "        \n",
    "#initialising weights, delta_w is the weight vector       \n",
    "    def fit(self,X,y):\n",
    "        self.w = np.zeros(1+X.shape[1])\n",
    "        self.errors = []\n",
    "        for i in range(self.epochs):\n",
    "            error = 0\n",
    "            for xi, output in zip(X, Y):\n",
    "                delta_w = self.learning_rate * (output - self.prediction(xi))\n",
    "                self.w[1:] += delta_w * xi\n",
    "                self.w[0] += delta_w\n",
    "                error += int(delta_w != 0.0)\n",
    "            self.errors.append(error)\n",
    "        return self\n",
    "    \n",
    "    def newinputs(self, X):\n",
    "        return np.dot(X, self.w[1:]) + self.w[0]  \n",
    "#b iv - activation function\n",
    "    def prediction(self, X):\n",
    "        return np.where(self.newinputs(X) > 0, 1, 0)"
   ]
  },
  {
   "cell_type": "code",
   "execution_count": 67,
   "metadata": {},
   "outputs": [],
   "source": [
    "percep = SinglePerceptron(0.08,100)\n",
    "#b v-training the model\n",
    "training_model = percep.fit(X_train,Y_train)"
   ]
  },
  {
   "cell_type": "code",
   "execution_count": 68,
   "metadata": {
    "scrolled": true
   },
   "outputs": [
    {
     "name": "stdout",
     "output_type": "stream",
     "text": [
      "Learning rate :  0.08\n",
      "Epochs :  100\n",
      "Weights :  \n",
      " [-6.0800000e+00  9.8012960e+01 -2.9638400e+01  1.8784000e+02\n",
      "  5.4525200e-01  1.4504000e-01  1.0484088e-01  1.1025488e+02\n",
      "  1.9933440e+02 -6.6408000e+01  1.4207800e+00 -1.6516088e+00\n",
      "  7.9145800e+00]\n"
     ]
    }
   ],
   "source": [
    "#b vi - priting the weights and the hyper parameters\n",
    "print(\"Learning rate : \",percep.learning_rate)\n",
    "print(\"Epochs : \",percep.epochs)\n",
    "print(\"Weights : \",\"\\n\",percep.w)"
   ]
  },
  {
   "cell_type": "code",
   "execution_count": 69,
   "metadata": {},
   "outputs": [
    {
     "name": "stdout",
     "output_type": "stream",
     "text": [
      "[1 1 1 1 1 1 1 1 1 1 1 1 1 1 1 1 1 1 1 1 1 1 1 1 1 1 1 1 1 1 1 1 1 1 1 1 1\n",
      " 1 1 1 1 1 1 1 1 1 1 1 1 1 1 1 1 1 1 1 1 1 1 1 1 1 1 1 1 1 1 1 1 1 1 1 1 1\n",
      " 1 1 1 1 1 1 1 1 1 1 1 1 1 1 1 1 1 1 1 1 1 1 1 1 1 1 1 1 1 1 1 1 1 1 1 1 1\n",
      " 1 1 1 1 1 1 1 1 1 1 1 1 1 1 1 1 1 1 1 1 1 1 1 1 1 1 1 1 1 1 1 1]\n",
      "Training accuracy: 62.91079812206573%\n",
      "Test accuracy: 62.23776223776224%\n"
     ]
    }
   ],
   "source": [
    "#b vii - predicting the outputs of train and test data\n",
    "y_ptrain = percep.prediction(X_train)\n",
    "y_ptest = percep.prediction(X_test)\n",
    "print(y_ptest)\n",
    "\n",
    "print(f\"Training accuracy: {100 - np.mean(np.abs(y_ptrain - Y_train)) * 100}%\")\n",
    "print(f\"Test accuracy: {100 - np.mean(np.abs(y_ptest - Y_test)) * 100}%\")"
   ]
  },
  {
   "cell_type": "code",
   "execution_count": 70,
   "metadata": {},
   "outputs": [
    {
     "data": {
      "image/png": "[encoded data removed]",
      "text/plain": [
       "<Figure size 432x288 with 1 Axes>"
      ]
     },
     "metadata": {
      "needs_background": "light"
     },
     "output_type": "display_data"
    }
   ],
   "source": [
    "#Visualisation\n",
    "plt.plot(range(1, len(percep.errors) + 1), percep.errors, marker='o')\n",
    "plt.xlabel('Epochs[Number of iterations through the dataset]')\n",
    "plt.ylabel('Number of misclassifications')\n",
    "plt.show()"
   ]
  },
  {
   "cell_type": "code",
   "execution_count": null,
   "metadata": {},
   "outputs": [],
   "source": []
  }
 ],
 "metadata": {
  "kernelspec": {
   "display_name": "Python 3",
   "language": "python",
   "name": "python3"
  },
  "language_info": {
   "codemirror_mode": {
    "name": "ipython",
    "version": 3
   },
   "file_extension": ".py",
   "mimetype": "text/x-python",
   "name": "python",
   "nbconvert_exporter": "python",
   "pygments_lexer": "ipython3",
   "version": "3.8.1"
  }
 },
 "nbformat": 4,
 "nbformat_minor": 2
}
